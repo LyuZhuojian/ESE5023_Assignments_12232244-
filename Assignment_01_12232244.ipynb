{
 "cells": [
  {
   "cell_type": "markdown",
   "id": "87ddc6d8",
   "metadata": {},
   "source": [
    "# 1 Flowchart\n",
    "### Write a function Print_values with arguments a, b, and c to reflect the following flowchart. Here the purple parallelogram operator on a list [x, y, z] is to compute and print x+y-10z. Try your output with some random a, b, and c values. Report your output when a = 10, b = 5, c = 1."
   ]
  },
  {
   "cell_type": "code",
   "execution_count": 5,
   "id": "72ab56ba",
   "metadata": {},
   "outputs": [
    {
     "name": "stdout",
     "output_type": "stream",
     "text": [
      "10 5 1\n",
      "x+y-10z=5\n"
     ]
    }
   ],
   "source": [
    "def Print_values(a,b,c):\n",
    "    if a>b:\n",
    "        if b>c:\n",
    "            print(a,b,c)\n",
    "        else:\n",
    "            if a>c:\n",
    "                print(a,c,b)\n",
    "            else:\n",
    "                print(c,a,b)\n",
    "    else:\n",
    "        if b>c:\n",
    "            pass\n",
    "        else:\n",
    "            print(c,b,a)\n",
    "    print(\"x+y-10z=\"+str(a+b-10*c))\n",
    "Print_values(10,5,1)\n"
   ]
  },
  {
   "cell_type": "markdown",
   "id": "896bdf8d",
   "metadata": {},
   "source": [
    "### 2.Given a list with N positive integers. For every element x of the list, find the value of continuous ceiling function defined as F(x) = F(ceil(x/3)) + 2x, where F(1) = 1"
   ]
  },
  {
   "cell_type": "code",
   "execution_count": 3,
   "id": "60b1889e",
   "metadata": {},
   "outputs": [
    {
     "name": "stdout",
     "output_type": "stream",
     "text": [
      "please input a positive interger x to calculate F(X):20\n"
     ]
    },
    {
     "data": {
      "text/plain": [
       "61"
      ]
     },
     "execution_count": 3,
     "metadata": {},
     "output_type": "execute_result"
    }
   ],
   "source": [
    "#以下是用递归方法写的函数\n",
    "import math\n",
    "def ceil_function(n):\n",
    "    if n==1:\n",
    "        return 1\n",
    "    return ceil_function(math.ceil(n/3))+2*n\n",
    "# 输入数字\n",
    "str_integer=input(\"please input a positive interger x to calculate F(X):\")\n",
    "int_integer=int(str_integer) \n",
    "ceil_function(int_integer)\n"
   ]
  },
  {
   "cell_type": "markdown",
   "id": "1a6ac3a4",
   "metadata": {},
   "source": [
    "# 3.Dice rolling\n",
    "##  Given 10 dice each with 6 faces, numbered from 1 to 6. Write a function Find_number_of_ways to find the number of ways to get sum x, defined as the sum of values on each face when all the dice are thrown."
   ]
  },
  {
   "cell_type": "code",
   "execution_count": 49,
   "id": "372e1deb",
   "metadata": {
    "scrolled": true
   },
   "outputs": [
    {
     "data": {
      "text/plain": [
       "20155392"
      ]
     },
     "execution_count": 49,
     "metadata": {},
     "output_type": "execute_result"
    }
   ],
   "source": [
    "count=10\n",
    "def Find_number_of_ways(count,x):\n",
    "    m=10**9 + 7\n",
    "    if x<0:\n",
    "        return 0\n",
    "    if count==1 & x<=6:\n",
    "        return 1\n",
    "    if count<=0:\n",
    "        return 0\n",
    "    else:\n",
    "        return (Find_number_of_ways(count-1,x-1)+Find_number_of_ways(count-1,x-2)+Find_number_of_ways(count-1,x-3)+Find_number_of_ways(count-1,x-4)+Find_number_of_ways(count-1,x-5)+Find_number_of_ways(count-1,x-6))%m\n",
    "# 下面是验证    \n",
    "Find_number_of_ways(10,60)"
   ]
  },
  {
   "cell_type": "markdown",
   "id": "474ef1bf",
   "metadata": {},
   "source": [
    "#  Count the number of ways for any x from 10 to 60, assign the number of ways to a list called Number_of_ways, so which x yields the maximum of Number_of_ways?"
   ]
  },
  {
   "cell_type": "code",
   "execution_count": 35,
   "id": "4527911c",
   "metadata": {},
   "outputs": [
    {
     "name": "stdout",
     "output_type": "stream",
     "text": [
      "[1, 10, 55, 221, 724, 2049, 5179, 11937, 25450, 50716]\n"
     ]
    }
   ],
   "source": [
    "ways=[]\n",
    "for i in range(10,20):\n",
    "    ways.append(Find_number_of_ways(10,i))\n",
    "print(ways)"
   ]
  },
  {
   "cell_type": "markdown",
   "id": "dd2588a6",
   "metadata": {},
   "source": [
    "### 4.1  Write a function Random_integer to fill an array of N elements by randomly selecting integers from 0 to 10"
   ]
  },
  {
   "cell_type": "code",
   "execution_count": 3,
   "id": "5f82281c",
   "metadata": {},
   "outputs": [
    {
     "name": "stdout",
     "output_type": "stream",
     "text": [
      "[0 0 1 0 6 9 0 4 4 7]\n",
      "[9 7 3 5 5 5 8 6 6]\n"
     ]
    }
   ],
   "source": [
    "#这是函数\n",
    "import random\n",
    "import numpy as np\n",
    "def random_integers(n):\n",
    "    random_list=np.random.randint(0,10,n)\n",
    "    return random_list\n",
    "#以下用来测试\n",
    "print(random_integers(10))\n",
    "print(random_integers(9))\n"
   ]
  },
  {
   "cell_type": "markdown",
   "id": "07f6ef93",
   "metadata": {},
   "source": [
    "### 4.2  Write a function Sum_averages to compute the sum of the average of all subsets of the array. For example, given an array of [1, 2, 3], you Sum_averages function should compute the sum of: average of [1], average of [2], average of [3], average of [1, 2], average of [1, 3], average of [2, 3], and average of [1, 2, 3]."
   ]
  },
  {
   "cell_type": "code",
   "execution_count": 12,
   "id": "ea08eb12",
   "metadata": {},
   "outputs": [
    {
     "data": {
      "text/plain": [
       "304.50000000000006"
      ]
     },
     "execution_count": 12,
     "metadata": {},
     "output_type": "execute_result"
    }
   ],
   "source": [
    "import numpy\n",
    "def sum_average(arr):\n",
    "    finish=[]    # the list containing all the subsequences of the specified sequence\n",
    "    size = len(arr)    # the number of elements in the specified sequence\n",
    "    end = 1 << size    # end=2**size\n",
    "    for index in range(end):   \n",
    "        array = []    # remember to clear the list before each loop\n",
    "        for j in range(size):\n",
    "            if (index >> j) % 2:    # this result is 1, so do not have to write ==\n",
    "                array.append(arr[j])\n",
    "        # print(array)\n",
    "        finish.append(numpy.mean(array))  \n",
    "    del finish[0]\n",
    "    return sum(finish)\n",
    "# 测试\n",
    "sum_average(random_integers(6))"
   ]
  },
  {
   "cell_type": "markdown",
   "id": "20fa597f",
   "metadata": {},
   "source": [
    ">上述方法参考引用了https://blog.csdn.net/Tiffany_959/article/details/102651770\n",
    "*使用其生成的子列求得平均值，再调用sum函数相加"
   ]
  },
  {
   "cell_type": "markdown",
   "id": "0d933685",
   "metadata": {},
   "source": [
    "## 4.3 [5 points] Call Sum_averages with N increasing from 1 to 100, assign the output to a list called Total_sum_averages. Plot Total_sum_averages, describe what do you see"
   ]
  },
  {
   "cell_type": "code",
   "execution_count": 17,
   "id": "d5f7563e",
   "metadata": {},
   "outputs": [
    {
     "name": "stdout",
     "output_type": "stream",
     "text": [
      "this is 1\n",
      "this is 2\n",
      "this is 3\n",
      "this is 4\n",
      "this is 5\n",
      "this is 6\n",
      "this is 7\n",
      "this is 8\n",
      "this is 9\n",
      "[7.0, 12.0, 46.666666666666664, 41.25, 173.6, 314.99999999999994, 435.42857142857116, 828.7500000000003, 2668.5555555555543]\n",
      "CPU times: total: 0 ns\n",
      "Wall time: 0 ns\n"
     ]
    }
   ],
   "source": [
    "total_sum_average=[]\n",
    "for i in range(1,10):\n",
    "    total_sum_average.append(sum_average(random_integers(i)))\n",
    "    print(\"this is \"+str(i))\n",
    "print(total_sum_average)\n",
    "%time"
   ]
  },
  {
   "cell_type": "markdown",
   "id": "43aa351c",
   "metadata": {},
   "source": [
    "*这种方法似乎无法支持较大的n值，算法的复杂程度高*"
   ]
  },
  {
   "cell_type": "markdown",
   "id": "2bfd87cd",
   "metadata": {},
   "source": [
    "## 5.1 [5 points] Create a matrix with N rows and M columns, fill the right-bottom corner and top-left corner cells with 1, and randomly fill the rest of matrix with integer 0 or 1."
   ]
  },
  {
   "cell_type": "code",
   "execution_count": 62,
   "id": "3dc56d4b",
   "metadata": {},
   "outputs": [
    {
     "data": {
      "text/plain": [
       "array([[1, 1, 0, 0, 0, 1, 0, 1, 0],\n",
       "       [1, 1, 1, 0, 0, 0, 1, 0, 1],\n",
       "       [0, 0, 0, 1, 0, 1, 0, 1, 1],\n",
       "       [0, 1, 0, 0, 1, 1, 1, 0, 1],\n",
       "       [0, 1, 1, 1, 0, 1, 0, 0, 1],\n",
       "       [1, 1, 0, 1, 0, 0, 1, 1, 0],\n",
       "       [1, 1, 1, 1, 1, 1, 0, 1, 1],\n",
       "       [0, 0, 1, 0, 1, 0, 0, 0, 0],\n",
       "       [0, 0, 1, 1, 0, 1, 1, 1, 1],\n",
       "       [1, 1, 0, 0, 0, 1, 0, 1, 1]])"
      ]
     },
     "execution_count": 62,
     "metadata": {},
     "output_type": "execute_result"
    }
   ],
   "source": [
    "import numpy as np\n",
    "def matrix_a(N,M):\n",
    "  \n",
    "    m=int(M)\n",
    "    n=int(N)\n",
    "    arr=np.random.randint(2,size=(n,m))\n",
    "    arr[0,0]=1\n",
    "    arr[n-1,m-1]=1\n",
    "    return arr\n",
    "# 以下是测试结果\n",
    "matrix_a(10,8)\n"
   ]
  },
  {
   "cell_type": "markdown",
   "id": "e1c2db4c",
   "metadata": {},
   "source": [
    "# 5.2 [25 points] Consider a cell marked with 0 as a blockage or dead-end, and a cell marked with 1 is good to go. Write a function Count_path to count total number of paths to reach the right-bottom corner cell from the top-left corner cell."
   ]
  },
  {
   "cell_type": "code",
   "execution_count": 160,
   "id": "f1a43d74",
   "metadata": {},
   "outputs": [
    {
     "data": {
      "text/plain": [
       "0.0"
      ]
     },
     "execution_count": 160,
     "metadata": {},
     "output_type": "execute_result"
    }
   ],
   "source": [
    "def Count_path(n,m):\n",
    "    cell=matrix_a(n,m)\n",
    "    solution=np.zeros((n,m))\n",
    "    solution[0,0]=1\n",
    "    \n",
    "    # 填充结果中第一列\n",
    "    for i in range(0,n):\n",
    "        if cell[0,i]==0:\n",
    "            solution[i,0]=0\n",
    "\n",
    "        else:\n",
    "            solution[i][0]=1\n",
    "    # 填充结果中第一行\n",
    "    for j in range(0,m):\n",
    "        if cell[0,j]==0:\n",
    "            solution[0,j]=0\n",
    "\n",
    "        else: \n",
    "            solution[0,j]=1\n",
    "    #进行路径的选择\n",
    "    for x in range(1,n):\n",
    "        for y in range(1,m):\n",
    "            if cell[x,y]==0:\n",
    "                solution[x,y]=0\n",
    "            else:\n",
    "                solution[x,y]=solution[x-1,y]+solution[x,y-1]\n",
    "    return solution[n-1,m-1]\n",
    "            \n",
    "Count_path(6,7)        \n"
   ]
  },
  {
   "cell_type": "markdown",
   "id": "f0ad2b74",
   "metadata": {},
   "source": [
    "# 5.3 [5 points] Let N = 10, M = 8, run Count_path for 1000 times, each time the matrix (except the right-bottom corner and top-left corner cells, which remain being 1) is re-filled with integer 0 or 1 randomly, report the mean of total number of paths from the 1000 runs.\n"
   ]
  },
  {
   "cell_type": "code",
   "execution_count": 163,
   "id": "d6f1972a",
   "metadata": {
    "scrolled": true
   },
   "outputs": [
    {
     "name": "stdout",
     "output_type": "stream",
     "text": [
      "0.9600399600399601\n"
     ]
    }
   ],
   "source": [
    "arr2=[]\n",
    "for i in range(1001):\n",
    "    arr2.append(Count_path(6,10))\n",
    "print(np.mean(arr2))"
   ]
  }
 ],
 "metadata": {
  "kernelspec": {
   "display_name": "Python 3 (ipykernel)",
   "language": "python",
   "name": "python3"
  },
  "language_info": {
   "codemirror_mode": {
    "name": "ipython",
    "version": 3
   },
   "file_extension": ".py",
   "mimetype": "text/x-python",
   "name": "python",
   "nbconvert_exporter": "python",
   "pygments_lexer": "ipython3",
   "version": "3.9.12"
  }
 },
 "nbformat": 4,
 "nbformat_minor": 5
}
